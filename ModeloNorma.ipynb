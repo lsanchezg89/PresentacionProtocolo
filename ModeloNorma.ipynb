{
 "cells": [
  {
   "cell_type": "code",
   "execution_count": 1,
   "metadata": {
    "collapsed": false
   },
   "outputs": [],
   "source": [
    "import numpy as np\n",
    "import matplotlib.pyplot as plt\n",
    "from scipy.special import binom\n",
    "%matplotlib inline"
   ]
  },
  {
   "cell_type": "markdown",
   "metadata": {
    "collapsed": true
   },
   "source": [
    "For the development of the model lets consider smooth muscle cells consist of two compartments: the sarcoplasm and the sarcoplasmic reticulum. Let $x$ be the total intracelular calcium concentration and $y$ the total luminal calcium concentration. We will consider the total flux in each compartment. Let $J_1$ be the calcium flux due to all removal mechanisms in the plasma membrane that keep concentrations of calcium in the cytoplasm at a basal level; $J_2$ be the flux from the sarcoplasmic reticulum to the sarcoplasm via ryanodine receptors embeded in the sarcoplasmic reticulum membrane, and $J_3$ be the flux from the sarcoplasm to the sarcoplasmic reticulum through SERCA pumps located in the sarcoplasmic reticulum membrane. It follows from the previous considerations that:\n",
    "\n",
    "$$\n",
    "\\begin{array}{rcl}\n",
    "\\frac{dx}{dt} & = & -J_1 + J_2 - J_3 \\\\\n",
    "\\frac{dy}{dt} & = & \\frac{J_3 - J_2}{\\gamma}\n",
    "\\end{array}\n",
    "$$\n",
    "\n",
    "where  $\\gamma$ is the ratio between the volume of the sarcoplasmic reticulum and volume of the sarcoplasm. Fluxes $J_1$, $J_2$ and $J_3$ are given by:"
   ]
  },
  {
   "cell_type": "code",
   "execution_count": 3,
   "metadata": {
    "collapsed": true
   },
   "outputs": [],
   "source": [
    "def Pulse(t):\n",
    "    H = np.zeros(len(t))\n",
    "    for i in range(len(t)):\n",
    "        if 10.0 <= t[i] <= 15.0:\n",
    "            H[i] = 1\n",
    "        else:\n",
    "            H[i] = 0\n",
    "    return H\n",
    "\n",
    "def ProbWithoutCaff(Cai):\n",
    "    P0 = (Cai * (1 + kf * Cf0)) ** nf / (KC ** nf + (Cai * (1 + kf * Cf0)) ** nf)\n",
    "    return P0\n",
    "\n",
    "def ProbWithCaff(Cai):\n",
    "    P1 = (Cai * (1 + kf * Cf1)) ** nf / (KC ** nf + (Cai * (1 + kf * Cf1)) ** nf)\n",
    "    return P1\n",
    "\n",
    "def Probability(Cai, t):\n",
    "    P = np.zeros(len(t))\n",
    "    Caff = np.zeros(len(t))\n",
    "    for i in range(len(t)):\n",
    "        Caff = Pulse(t)\n",
    "        P[i] = ((1 - Caff[i]) * ProbWithoutCaff(Ca) + Caff[i] *\n",
    "                ProbWithCaff(Ca))\n",
    "    return P"
   ]
  },
  {
   "cell_type": "code",
   "execution_count": 6,
   "metadata": {
    "collapsed": false
   },
   "outputs": [],
   "source": [
    "def RyRFlux(Cai, CaSR, t):\n",
    "    J2 = np.zeros(len(t))\n",
    "    Prob = np.zeros(len(t))\n",
    "    for i in range(len(t)):\n",
    "        Prob = Probability(Ca, t)\n",
    "        J2[i] = b * gamma ** (nv) * Prob[i] * (CaSR - Cai)\n",
    "    return J2"
   ]
  },
  {
   "cell_type": "code",
   "execution_count": null,
   "metadata": {
    "collapsed": true
   },
   "outputs": [],
   "source": []
  }
 ],
 "metadata": {
  "kernelspec": {
   "display_name": "Python 2",
   "language": "python",
   "name": "python2"
  },
  "language_info": {
   "codemirror_mode": {
    "name": "ipython",
    "version": 2
   },
   "file_extension": ".py",
   "mimetype": "text/x-python",
   "name": "python",
   "nbconvert_exporter": "python",
   "pygments_lexer": "ipython2",
   "version": "2.7.11"
  }
 },
 "nbformat": 4,
 "nbformat_minor": 0
}
