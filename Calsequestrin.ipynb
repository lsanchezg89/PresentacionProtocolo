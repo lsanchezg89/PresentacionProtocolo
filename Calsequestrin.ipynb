{
 "cells": [
  {
   "cell_type": "code",
   "execution_count": 2,
   "metadata": {
    "collapsed": false
   },
   "outputs": [],
   "source": [
    "from pylab import *\n",
    "from scipy.special import binom\n",
    "%matplotlib inline"
   ]
  },
  {
   "cell_type": "markdown",
   "metadata": {},
   "source": [
    "Consider the following reaction sequence:\n",
    "$$\n",
    "\\begin{array}{rcl}\n",
    "R_0 + C & \\rightleftharpoons & R_1, \\\\\n",
    "R_1 + C & \\rightleftharpoons & R_2, \\\\\n",
    " & \\vdots & \\\\\n",
    "R_{n-1} + C & \\rightleftharpoons & R_n, \\\\\n",
    "2 R_n & \\rightleftharpoons & R_D.\n",
    "\\end{array}\n",
    "$$\n",
    "\n",
    "After analyzing the stationary chemical kinetics we obtain:\n",
    "$$\n",
    "\\begin{array}{rcl}\n",
    "R_i & = & R_0 \\left({n \\atop i}\\right) \\left(\\frac{C}{K_C}\\right)^i, \\\\\n",
    "R_D & = & \\frac{R_0^2}{K_D} \\left(\\frac{C}{K_C}\\right)^{2n}.\n",
    "\\end{array}\n",
    "$$\n",
    "By imposing the condition\n",
    "$$\n",
    "\\sum_{i=0}^n R_i + 2 R_D = R_T,\n",
    "$$\n",
    "we obtain\n",
    "\\begin{array}{rcl}\n",
    "\\frac{R_0}{R_T} & = & \\frac{K_D}{4 R_T} \\left[ \\sqrt{\\left( \\frac{1 + C/K_C}{(C / K_C)^2} \\right)^{2n} + \\frac{8 R_T}{K_D} \\frac{1}{(C / K_C)^{2n}} } - \\left( \\frac{1 + C/K_C}{(C / K_C)^2} \\right)^{n} \\right], \\\\\n",
    "\\frac{R_i}{R_T} & = & \\frac{R_0}{R_T} \\left({n \\atop i}\\right) \\left(\\frac{C}{K_C}\\right)^i, \\\\\n",
    "\\frac{R_D}{R_T} & = & \\frac{R_0^2}{K_D R_T} \\left(\\frac{C}{K_C}\\right)^{2n}.\n",
    "\\end{array}\n",
    "In the above equations, $K_C$ and $K_D$ are respectively the dissociation constants for calcium binding and receptor dimerizations.\n",
    "\n",
    "From the above results, the total amount of bound calcium (normalizad to the total receptor monomer concentracion) can be computed as:\n",
    "$$\n",
    "\\frac{C_B}{R_T} = \\sum_{i = 0}^n i \\frac{R_i}{R_T} + (2n + m) \\frac{R_D}{R_T},\n",
    "$$\n",
    "were $m$ is the number of extra calcium ions trapped during the formation of a receptor dimer.\n",
    "\n",
    "In order to simplify the notation, let us define\n",
    "$$\n",
    "\\begin{array}{rcl}\n",
    "r_i & = & R_i / R_T,\\\\\n",
    "r_D & = & R_D / R_T, \\\\\n",
    "c_B & = & C_B / R_T, \\\\\n",
    "k_D & = & K_D / R_T, \\\\\n",
    "c & = & C / K_C.\n",
    "\\end{array}\n",
    "$$\n",
    "With these definitions, or results can be rewritten as\n",
    "$$\n",
    "\\begin{array}{rcl}\n",
    "r_0 & = & \\big( k_D / 4 \\big) \\left[ \\sqrt{\\big( (1 + c) / c^2 \\big)^{2n} + 8 / \\big(k_D c^{2n}\\big)} - \\big( (1 + c) / c^2 \\big)^n \\right],\\\\\n",
    "r_i & = & r_0 \\left({n \\atop i}\\right) c^i,\\\\\n",
    "r_D & = & r_0^2 c^{2n} / k_D, \\\\\n",
    "c_B & = & \\sum_{i = 0}^n i r_i + (2n + m) r_D.\n",
    "\\end{array}\n",
    "$$\n",
    "It can be shown by expanding in Taylor series and cutting at first order that\n",
    "$$\n",
    "\\begin{array}{rcl}\n",
    "r_0 & \\approx & 1 / (1 + c)^n,\\\\\n",
    "r_i & \\approx & r_0 \\left({n \\atop i}\\right) c^i,\\\\\n",
    "r_D & \\approx & 0, \\\\\n",
    "c_B & \\approx & \\sum_{i = 0}^n i r_i,\n",
    "\\end{array}\n",
    "$$\n",
    "when $k_D \\gg 1$\n"
   ]
  },
  {
   "cell_type": "code",
   "execution_count": 3,
   "metadata": {
    "collapsed": false
   },
   "outputs": [],
   "source": [
    "def boundCalcium(c):\n",
    "    r = zeros(n + 2)\n",
    "    r[0] = kd / 4 * (sqrt(((1 + c *Kc) / (c*Kc)**2)**(2 * n) + 8 / (kd * (c*Kc)**(2 * n))) - ((1 + c*Kc) / (c*Kc)**2)**n )\n",
    "    for i in range(1, n + 1):\n",
    "        r[i] = r[0] * binom(n, i) * (c*Kc)**i\n",
    "    r[n + 1] = r[0]**2 * (c*Kc)**(2 * n) / kd\n",
    "    return sum(arange(n + 1) * r[:-1]) + (2 * n + m) * r[n + 1]"
   ]
  },
  {
   "cell_type": "code",
   "execution_count": 16,
   "metadata": {
    "collapsed": false
   },
   "outputs": [
    {
     "data": {
      "text/plain": [
       "[0, 10, 0, 30]"
      ]
     },
     "execution_count": 16,
     "metadata": {},
     "output_type": "execute_result"
    },
    {
     "data": {
      "image/png": "[encoded data removed]",
      "text/plain": [
       "<matplotlib.figure.Figure at 0x7fb902b96490>"
      ]
     },
     "metadata": {},
     "output_type": "display_data"
    }
   ],
   "source": [
    "n = 20\n",
    "m = 12\n",
    "kd = .000000000002\n",
    "Kc = .2\n",
    "c = linspace(.02,100,1000)\n",
    "cb = zeros(1000)\n",
    "for i in range(1000):\n",
    "    cb[i] = boundCalcium(c[i])\n",
    "x = [0.051, 0.145, 0.27, 0.37, 0.57, 0.73, 0.91, 1.165]\n",
    "y = [1.4, 3.6, 5.5, 6.8, 14., 17., 19., 22.]\n",
    "subplot(1,2,1)\n",
    "plot(Kc*c, cb)\n",
    "plot(x, y, '.')\n",
    "xlabel(r'$Ca^{2+}[mM]$')\n",
    "ylabel(r'$c_B$')\n",
    "axis([-3, 10, 0, 30])\n",
    "subplot(1,2,2)\n",
    "plot(Kc*c, cb)\n",
    "plot(x, y, '.')\n",
    "xlabel(r'$Ca^{2+}[mM]$')\n",
    "axis([0, 10, 0, 30])"
   ]
  },
  {
   "cell_type": "code",
   "execution_count": 4,
   "metadata": {
    "collapsed": false
   },
   "outputs": [
    {
     "data": {
      "text/plain": [
       "[<matplotlib.lines.Line2D at 0x7f89bd0226d0>]"
      ]
     },
     "execution_count": 4,
     "metadata": {},
     "output_type": "execute_result"
    },
    {
     "data": {
      "image/png": "[encoded data removed]",
      "text/plain": [
       "<matplotlib.figure.Figure at 0x7f89bfaa1090>"
      ]
     },
     "metadata": {},
     "output_type": "display_data"
    }
   ],
   "source": [
    "n = 25\n",
    "m = 30\n",
    "c = linspace(.01,100,1000)\n",
    "cb = (4 * n + m) * 1/4 * c**0\n",
    "plot(c,cb)"
   ]
  },
  {
   "cell_type": "code",
   "execution_count": null,
   "metadata": {
    "collapsed": true
   },
   "outputs": [],
   "source": []
  }
 ],
 "metadata": {
  "kernelspec": {
   "display_name": "Python 2",
   "language": "python",
   "name": "python2"
  },
  "language_info": {
   "codemirror_mode": {
    "name": "ipython",
    "version": 2
   },
   "file_extension": ".py",
   "mimetype": "text/x-python",
   "name": "python",
   "nbconvert_exporter": "python",
   "pygments_lexer": "ipython2",
   "version": "2.7.11"
  }
 },
 "nbformat": 4,
 "nbformat_minor": 0
}
